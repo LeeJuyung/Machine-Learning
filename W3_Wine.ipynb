{
 "cells": [
  {
   "cell_type": "markdown",
   "id": "b19f24c7",
   "metadata": {},
   "source": [
    "60201359 이주영"
   ]
  },
  {
   "cell_type": "code",
   "execution_count": 2,
   "id": "941c8248",
   "metadata": {},
   "outputs": [
    {
     "name": "stdout",
     "output_type": "stream",
     "text": [
      "(1599, 12)\n",
      "X_train 크기: (1119, 11)\n",
      "y_train 크기: (1119,)\n",
      "X_test 크기: (480, 11)\n",
      "y_test 크기: (480,)\n",
      "예측값\n",
      " [2 1 3 2 2 2 2 2 1 2 2 2 2 1 3 2 3 2 2 2 3 2 2 1 2 2 2 3 2 2 2 2 2 2 3 3 2\n",
      " 2 2 2 2 2 2 2 2 2 2 2 2 2 2 2 2 2 2 2 2 2 3 2 2 2 2 3 2 2 2 2 3 2 2 2 1 2\n",
      " 2 2 2 2 2 3 2 2 3 2 2 2 1 2 2 2 2 2 2 2 3 2 3 2 2 2 2 2 2 2 2 2 2 2 2 2 2\n",
      " 2 3 2 2 2 2 3 2 2 2 3 1 2 3 2 2 2 2 3 2 2 2 2 2 2 2 2 2 2 2 2 2 2 3 2 3 2\n",
      " 2 2 3 3 2 2 2 2 2 2 2 3 2 2 2 2 2 2 2 3 2 2 2 1 2 2 3 2 2 3 3 2 2 3 2 2 2\n",
      " 2 2 2 2 3 2 2 2 2 2 2 2 2 2 2 2 3 2 2 2 2 2 2 2 2 2 2 2 3 2 2 2 3 2 2 2 2\n",
      " 3 2 2 2 3 3 2 2 2 2 2 2 3 2 2 3 3 2 2 2 2 2 2 2 2 2 2 2 2 2 2 2 2 2 2 2 2\n",
      " 3 2 2 2 2 2 2 2 2 2 2 2 3 2 2 2 2 2 2 2 3 2 2 3 2 2 2 2 2 3 2 2 2 2 2 2 2\n",
      " 2 2 2 2 2 2 2 2 2 2 2 2 2 2 2 2 2 2 1 2 3 3 2 3 2 1 2 3 2 1 3 2 2 2 3 2 2\n",
      " 3 2 2 3 2 2 2 2 2 2 3 2 2 2 2 3 3 2 3 2 1 3 1 2 3 2 3 2 2 2 2 3 2 2 3 2 2\n",
      " 2 2 2 2 1 2 3 2 2 2 2 2 2 2 2 2 2 3 2 2 3 2 2 3 2 2 2 2 2 2 2 2 2 2 2 2 2\n",
      " 2 2 3 2 2 2 2 2 1 2 2 2 1 3 2 2 2 2 2 2 2 2 2 2 2 2 2 2 2 2 3 2 2 2 2 2 2\n",
      " 3 2 2 2 3 2 2 2 3 2 2 2 2 2 2 2 2 2 2 2 2 2 2 2 2 2 2 2 2 2 2 2 2 2 2 2]\n",
      "실제값\n",
      " [2 2 3 2 2 2 2 2 1 2 2 2 2 2 2 2 3 2 2 1 3 2 2 1 2 2 2 3 2 2 2 2 2 2 3 3 2\n",
      " 2 2 3 2 3 2 2 2 2 2 2 2 2 2 2 2 2 2 2 2 2 2 2 2 2 2 2 2 2 2 2 2 2 2 2 1 2\n",
      " 2 2 2 2 2 2 2 2 2 2 2 2 2 2 2 2 2 2 1 2 3 2 2 2 2 2 3 2 2 2 2 2 2 2 3 2 2\n",
      " 2 3 2 2 2 2 3 2 2 2 3 2 2 2 2 2 2 2 2 2 2 2 2 2 2 2 2 3 2 2 2 2 2 1 2 3 2\n",
      " 2 2 2 2 2 2 2 2 1 2 2 2 2 2 2 2 2 2 2 2 2 2 2 2 2 3 2 2 2 3 3 2 2 3 2 2 2\n",
      " 1 2 2 2 2 2 2 2 2 2 2 2 2 2 2 2 2 2 2 2 2 2 2 3 2 2 2 2 2 2 2 2 2 2 2 2 2\n",
      " 2 2 2 2 2 2 1 2 2 2 3 2 3 2 2 3 3 2 2 2 2 2 2 2 2 2 2 2 2 2 2 2 2 2 2 2 2\n",
      " 3 2 2 2 2 2 1 2 2 2 3 2 2 2 1 2 2 3 2 2 3 2 3 2 2 2 2 2 2 2 2 2 2 2 2 2 2\n",
      " 2 2 2 2 2 2 2 2 2 2 2 2 2 2 2 2 2 2 2 2 1 2 1 2 2 2 2 3 2 2 3 2 2 2 3 2 2\n",
      " 2 2 2 3 2 1 2 2 2 2 3 2 2 2 2 2 3 2 2 2 2 3 2 2 2 2 3 2 2 2 3 2 2 2 3 2 1\n",
      " 2 2 1 3 2 2 2 3 2 2 2 2 2 2 2 2 2 2 2 3 2 2 2 3 2 2 2 2 3 2 2 2 2 2 2 2 2\n",
      " 2 2 3 2 2 2 2 2 2 2 2 2 2 2 2 2 2 2 2 2 2 2 2 2 2 2 2 2 3 2 2 2 2 2 2 2 2\n",
      " 2 2 2 2 2 2 3 2 3 2 2 2 1 2 2 2 1 2 2 2 2 2 3 2 2 2 2 2 2 2 2 2 2 2 2 2]\n",
      "정확도:  0.8229166666666666\n",
      "[[  3  13   2]\n",
      " [ 13 361  38]\n",
      " [  0  19  31]]\n"
     ]
    }
   ],
   "source": [
    "import pandas as pd\n",
    "import numpy as np\n",
    "from sklearn import model_selection\n",
    "from sklearn import metrics\n",
    "import matplotlib.pyplot as plt\n",
    "from sklearn import datasets\n",
    "from sklearn.tree import DecisionTreeClassifier\n",
    "\n",
    "df=pd.read_csv(\"data/winequality-red.csv\")\n",
    "\n",
    "print(df.shape)\n",
    "df.head()\n",
    "\n",
    "#결측치 확인\n",
    "df.isnull().sum()\n",
    "\n",
    "#등급 분포도 확인\n",
    "df[\"quality\"].value_counts()\n",
    "\n",
    "#3 4, 5 6, 7 8로 분류 (상-1 중-2 하-3)\n",
    "df[\"quality3\"]=df.quality.map(lambda x:1 if x<5 else 2 if x<7 else 3)\n",
    "df.head()\n",
    "\n",
    "X = np.array(df.drop(['quality','quality3'],axis=1))\n",
    "y = np.array(df['quality3'])\n",
    "X\n",
    "\n",
    "y\n",
    "\n",
    "#트레이닝세트와 테스트세트로 데이터 구분\n",
    "from sklearn.model_selection import train_test_split\n",
    "X_train, X_test, y_train, y_test = train_test_split(X,y,test_size=0.3, random_state=0)\n",
    "\n",
    "print(\"X_train 크기:\", X_train.shape)\n",
    "print(\"y_train 크기:\", y_train.shape)\n",
    "print(\"X_test 크기:\", X_test.shape)\n",
    "print(\"y_test 크기:\", y_test.shape)\n",
    "\n",
    "#의사결정나무 모델 데이터 적합 확인\n",
    "from sklearn.tree import DecisionTreeClassifier\n",
    "\n",
    "tree=DecisionTreeClassifier(random_state=0) #max미지정\n",
    "tree.fit(X_train, y_train)\n",
    "\n",
    "#모델성능평가\n",
    "temp_y_pred = tree.predict(X_test)\n",
    "\n",
    "#training 값을 X_test에서 넣음\n",
    "print('예측값\\n', temp_y_pred)\n",
    "print('실제값\\n', y_test)\n",
    "\n",
    "#정확도 계산\n",
    "from sklearn.metrics import classification_report, accuracy_score, confusion_matrix\n",
    "\n",
    "temp_acc = accuracy_score(y_test, temp_y_pred)\n",
    "#y_test와 temp_y_pred로 예측한 값을 적용하여 temp_acc를 추출함\n",
    "\n",
    "print('정확도: ', format(temp_acc))\n",
    "\n",
    "#오차행렬(Confusion Matrix)\n",
    "print(confusion_matrix(y_test, temp_y_pred))"
   ]
  },
  {
   "cell_type": "code",
   "execution_count": 3,
   "id": "96adbab8",
   "metadata": {},
   "outputs": [
    {
     "name": "stdout",
     "output_type": "stream",
     "text": [
      "Requirement already satisfied: imblearn in c:\\users\\jylpi\\anaconda3\\lib\\site-packages (0.0)\n",
      "Requirement already satisfied: imbalanced-learn in c:\\users\\jylpi\\anaconda3\\lib\\site-packages (from imblearn) (0.10.1)\n",
      "Requirement already satisfied: joblib>=1.1.1 in c:\\users\\jylpi\\anaconda3\\lib\\site-packages (from imbalanced-learn->imblearn) (1.1.1)\n",
      "Requirement already satisfied: scikit-learn>=1.0.2 in c:\\users\\jylpi\\anaconda3\\lib\\site-packages (from imbalanced-learn->imblearn) (1.2.1)\n",
      "Requirement already satisfied: scipy>=1.3.2 in c:\\users\\jylpi\\anaconda3\\lib\\site-packages (from imbalanced-learn->imblearn) (1.10.0)\n",
      "Requirement already satisfied: threadpoolctl>=2.0.0 in c:\\users\\jylpi\\anaconda3\\lib\\site-packages (from imbalanced-learn->imblearn) (2.2.0)\n",
      "Requirement already satisfied: numpy>=1.17.3 in c:\\users\\jylpi\\anaconda3\\lib\\site-packages (from imbalanced-learn->imblearn) (1.23.5)\n"
     ]
    }
   ],
   "source": [
    "!pip install imblearn"
   ]
  },
  {
   "cell_type": "code",
   "execution_count": 4,
   "id": "15cc9d5c",
   "metadata": {},
   "outputs": [
    {
     "name": "stdout",
     "output_type": "stream",
     "text": [
      "X_train_balanced 크기:  (2721, 11)\n",
      "y_train_balanced 크기:  (2721,)\n"
     ]
    }
   ],
   "source": [
    "from imblearn.over_sampling import SMOTE\n",
    "\n",
    "sm= SMOTE(random_state=0)\n",
    "X_train_balanced, y_train_balanced = sm.fit_resample(X_train,y_train)\n",
    "\n",
    "print(\"X_train_balanced 크기: \", X_train_balanced.shape)\n",
    "print(\"y_train_balanced 크기: \", y_train_balanced.shape)"
   ]
  },
  {
   "cell_type": "code",
   "execution_count": 5,
   "id": "068c44f6",
   "metadata": {},
   "outputs": [
    {
     "name": "stdout",
     "output_type": "stream",
     "text": [
      "예측값\n",
      " [2 1 3 2 2 2 2 2 1 2 2 2 2 1 3 2 3 2 2 2 3 2 2 1 2 2 2 3 2 2 2 2 2 2 3 3 2\n",
      " 2 2 2 2 2 2 2 2 2 2 2 2 2 2 2 2 2 2 2 2 2 3 2 2 2 2 3 2 2 2 2 3 2 2 2 1 2\n",
      " 2 2 2 2 2 3 2 2 3 2 2 2 1 2 2 2 2 2 2 2 3 2 3 2 2 2 2 2 2 2 2 2 2 2 2 2 2\n",
      " 2 3 2 2 2 2 3 2 2 2 3 1 2 3 2 2 2 2 3 2 2 2 2 2 2 2 2 2 2 2 2 2 2 3 2 3 2\n",
      " 2 2 3 3 2 2 2 2 2 2 2 3 2 2 2 2 2 2 2 3 2 2 2 1 2 2 3 2 2 3 3 2 2 3 2 2 2\n",
      " 2 2 2 2 3 2 2 2 2 2 2 2 2 2 2 2 3 2 2 2 2 2 2 2 2 2 2 2 3 2 2 2 3 2 2 2 2\n",
      " 3 2 2 2 3 3 2 2 2 2 2 2 3 2 2 3 3 2 2 2 2 2 2 2 2 2 2 2 2 2 2 2 2 2 2 2 2\n",
      " 3 2 2 2 2 2 2 2 2 2 2 2 3 2 2 2 2 2 2 2 3 2 2 3 2 2 2 2 2 3 2 2 2 2 2 2 2\n",
      " 2 2 2 2 2 2 2 2 2 2 2 2 2 2 2 2 2 2 1 2 3 3 2 3 2 1 2 3 2 1 3 2 2 2 3 2 2\n",
      " 3 2 2 3 2 2 2 2 2 2 3 2 2 2 2 3 3 2 3 2 1 3 1 2 3 2 3 2 2 2 2 3 2 2 3 2 2\n",
      " 2 2 2 2 1 2 3 2 2 2 2 2 2 2 2 2 2 3 2 2 3 2 2 3 2 2 2 2 2 2 2 2 2 2 2 2 2\n",
      " 2 2 3 2 2 2 2 2 1 2 2 2 1 3 2 2 2 2 2 2 2 2 2 2 2 2 2 2 2 2 3 2 2 2 2 2 2\n",
      " 3 2 2 2 3 2 2 2 3 2 2 2 2 2 2 2 2 2 2 2 2 2 2 2 2 2 2 2 2 2 2 2 2 2 2 2]\n",
      "실제값\n",
      " [2 2 3 2 2 2 2 2 1 2 2 2 2 2 2 2 3 2 2 1 3 2 2 1 2 2 2 3 2 2 2 2 2 2 3 3 2\n",
      " 2 2 3 2 3 2 2 2 2 2 2 2 2 2 2 2 2 2 2 2 2 2 2 2 2 2 2 2 2 2 2 2 2 2 2 1 2\n",
      " 2 2 2 2 2 2 2 2 2 2 2 2 2 2 2 2 2 2 1 2 3 2 2 2 2 2 3 2 2 2 2 2 2 2 3 2 2\n",
      " 2 3 2 2 2 2 3 2 2 2 3 2 2 2 2 2 2 2 2 2 2 2 2 2 2 2 2 3 2 2 2 2 2 1 2 3 2\n",
      " 2 2 2 2 2 2 2 2 1 2 2 2 2 2 2 2 2 2 2 2 2 2 2 2 2 3 2 2 2 3 3 2 2 3 2 2 2\n",
      " 1 2 2 2 2 2 2 2 2 2 2 2 2 2 2 2 2 2 2 2 2 2 2 3 2 2 2 2 2 2 2 2 2 2 2 2 2\n",
      " 2 2 2 2 2 2 1 2 2 2 3 2 3 2 2 3 3 2 2 2 2 2 2 2 2 2 2 2 2 2 2 2 2 2 2 2 2\n",
      " 3 2 2 2 2 2 1 2 2 2 3 2 2 2 1 2 2 3 2 2 3 2 3 2 2 2 2 2 2 2 2 2 2 2 2 2 2\n",
      " 2 2 2 2 2 2 2 2 2 2 2 2 2 2 2 2 2 2 2 2 1 2 1 2 2 2 2 3 2 2 3 2 2 2 3 2 2\n",
      " 2 2 2 3 2 1 2 2 2 2 3 2 2 2 2 2 3 2 2 2 2 3 2 2 2 2 3 2 2 2 3 2 2 2 3 2 1\n",
      " 2 2 1 3 2 2 2 3 2 2 2 2 2 2 2 2 2 2 2 3 2 2 2 3 2 2 2 2 3 2 2 2 2 2 2 2 2\n",
      " 2 2 3 2 2 2 2 2 2 2 2 2 2 2 2 2 2 2 2 2 2 2 2 2 2 2 2 2 3 2 2 2 2 2 2 2 2\n",
      " 2 2 2 2 2 2 3 2 3 2 2 2 1 2 2 2 1 2 2 2 2 2 3 2 2 2 2 2 2 2 2 2 2 2 2 2]\n",
      "정확도:  0.8229166666666666\n",
      "[[  3  13   2]\n",
      " [ 13 361  38]\n",
      " [  0  19  31]]\n"
     ]
    }
   ],
   "source": [
    "#의사결정나무 모델 데이터 적합 확인\n",
    "from sklearn.tree import DecisionTreeClassifier\n",
    "\n",
    "tree=DecisionTreeClassifier(random_state=0) #max미지정\n",
    "tree.fit(X_train, y_train)\n",
    "\n",
    "#모델성능평가\n",
    "temp_y_pred = tree.predict(X_test)\n",
    "\n",
    "#training 값을 X_test에서 넣음\n",
    "print('예측값\\n', temp_y_pred)\n",
    "print('실제값\\n', y_test)\n",
    "\n",
    "#정확도 계산\n",
    "from sklearn.metrics import classification_report, accuracy_score, confusion_matrix\n",
    "\n",
    "temp_acc = accuracy_score(y_test, temp_y_pred)\n",
    "#y_test와 temp_y_pred로 예측한 값을 적용하여 temp_acc를 추출함\n",
    "\n",
    "print('정확도: ', format(temp_acc))\n",
    "\n",
    "#오차행렬(Confusion Matrix)\n",
    "print(confusion_matrix(y_test, temp_y_pred))"
   ]
  },
  {
   "cell_type": "code",
   "execution_count": 6,
   "id": "2f64d875",
   "metadata": {},
   "outputs": [
    {
     "name": "stdout",
     "output_type": "stream",
     "text": [
      "              precision    recall  f1-score   support\n",
      "\n",
      "           1       0.19      0.17      0.18        18\n",
      "           2       0.92      0.88      0.90       412\n",
      "           3       0.44      0.62      0.51        50\n",
      "\n",
      "    accuracy                           0.82       480\n",
      "   macro avg       0.51      0.55      0.53       480\n",
      "weighted avg       0.84      0.82      0.83       480\n",
      "\n"
     ]
    }
   ],
   "source": [
    "#모델 성능\n",
    "print(classification_report(y_test,tree.predict(X_test)))"
   ]
  },
  {
   "cell_type": "markdown",
   "id": "d67556d6",
   "metadata": {},
   "source": [
    "a=pd.DataFrame(tree.feature_importances_.reshape((1,-1)), index=['feature_importance'])\n",
    "a"
   ]
  },
  {
   "cell_type": "markdown",
   "id": "c82626c4",
   "metadata": {},
   "source": [
    "tree.predict(X_test)\n",
    "#ROC실습"
   ]
  },
  {
   "cell_type": "markdown",
   "id": "1eeb2a1b",
   "metadata": {},
   "source": [
    "from sklearn.metrics import roc_curve\n",
    "fpr, tpr, thresholds = roc_curve(y_test, tree.predict_proba(X_test)[:,1])"
   ]
  },
  {
   "cell_type": "markdown",
   "id": "86eafedf",
   "metadata": {},
   "source": [
    "#ROC curve 그래프 그리기\n",
    "plt.plot(fpr, tpr, '-', ms=2, label=\"Decision Tree\")\n",
    "plt.plot([0,1],[0,1],'--',label=\"Random Guess\")\n",
    "\n",
    "plt.xlabel('False Positive Rate')\n",
    "plt.ylabel('True Positive Rate')\n",
    "plt.title('ROC Curves')\n",
    "plt.legend(loc=\"lower right\")\n",
    "plt.show()"
   ]
  },
  {
   "cell_type": "markdown",
   "id": "9177c67d",
   "metadata": {},
   "source": [
    "#AUC 계산\n",
    "from sklearn import metrics\n",
    "roc_auc=metrics.auc(fpr,tpr)\n",
    "print('Area Under Curve : %0.2f'% roc_auc)"
   ]
  },
  {
   "cell_type": "code",
   "execution_count": 10,
   "id": "b3b42ee0",
   "metadata": {},
   "outputs": [
    {
     "data": {
      "text/html": [
       "<div>\n",
       "<style scoped>\n",
       "    .dataframe tbody tr th:only-of-type {\n",
       "        vertical-align: middle;\n",
       "    }\n",
       "\n",
       "    .dataframe tbody tr th {\n",
       "        vertical-align: top;\n",
       "    }\n",
       "\n",
       "    .dataframe thead th {\n",
       "        text-align: right;\n",
       "    }\n",
       "</style>\n",
       "<table border=\"1\" class=\"dataframe\">\n",
       "  <thead>\n",
       "    <tr style=\"text-align: right;\">\n",
       "      <th></th>\n",
       "      <th>0</th>\n",
       "      <th>1</th>\n",
       "      <th>2</th>\n",
       "      <th>3</th>\n",
       "      <th>4</th>\n",
       "      <th>5</th>\n",
       "      <th>6</th>\n",
       "      <th>7</th>\n",
       "      <th>8</th>\n",
       "      <th>9</th>\n",
       "      <th>10</th>\n",
       "    </tr>\n",
       "  </thead>\n",
       "  <tbody>\n",
       "    <tr>\n",
       "      <th>feature_importance</th>\n",
       "      <td>0.070892</td>\n",
       "      <td>0.132708</td>\n",
       "      <td>0.064613</td>\n",
       "      <td>0.086827</td>\n",
       "      <td>0.063031</td>\n",
       "      <td>0.094609</td>\n",
       "      <td>0.073773</td>\n",
       "      <td>0.06778</td>\n",
       "      <td>0.080589</td>\n",
       "      <td>0.080239</td>\n",
       "      <td>0.184939</td>\n",
       "    </tr>\n",
       "  </tbody>\n",
       "</table>\n",
       "</div>"
      ],
      "text/plain": [
       "                          0         1         2         3         4   \\\n",
       "feature_importance  0.070892  0.132708  0.064613  0.086827  0.063031   \n",
       "\n",
       "                          5         6        7         8         9         10  \n",
       "feature_importance  0.094609  0.073773  0.06778  0.080589  0.080239  0.184939  "
      ]
     },
     "execution_count": 10,
     "metadata": {},
     "output_type": "execute_result"
    }
   ],
   "source": [
    "a=pd.DataFrame(tree.feature_importances_.reshape((1,-1)), index=['feature_importance'])\n",
    "a"
   ]
  },
  {
   "cell_type": "code",
   "execution_count": 17,
   "id": "3ba46991",
   "metadata": {},
   "outputs": [
    {
     "data": {
      "text/plain": [
       "{'feature': ['0', '1', '2', '3', '4', '5', '6', '7', '8', '9', '10'],\n",
       " 'score': [0.070892,\n",
       "  0.132708,\n",
       "  0.064613,\n",
       "  0.086827,\n",
       "  0.063031,\n",
       "  0.094609,\n",
       "  0.073773,\n",
       "  0.06778,\n",
       "  0.080589,\n",
       "  0.080239,\n",
       "  0.184939]}"
      ]
     },
     "execution_count": 17,
     "metadata": {},
     "output_type": "execute_result"
    }
   ],
   "source": [
    "aa={\n",
    "    'feature' : ['0','1','2','3','4','5','6','7','8','9','10'],\n",
    "    'score': [0.070892, 0.132708,0.064613,0.086827,0.063031,0.094609,0.073773,0.06778,0.080589,0.080239,0.184939]\n",
    "}\n",
    "aa"
   ]
  },
  {
   "cell_type": "code",
   "execution_count": 18,
   "id": "64d9c976",
   "metadata": {},
   "outputs": [
    {
     "data": {
      "text/plain": [
       "<BarContainer object of 11 artists>"
      ]
     },
     "execution_count": 18,
     "metadata": {},
     "output_type": "execute_result"
    },
    {
     "data": {
      "image/png": "[encoded data removed]",
      "text/plain": [
       "<Figure size 640x480 with 1 Axes>"
      ]
     },
     "metadata": {},
     "output_type": "display_data"
    }
   ],
   "source": [
    "import matplotlib\n",
    "plt.bar(aa['feature'], aa['score'])"
   ]
  },
  {
   "cell_type": "markdown",
   "id": "4d2d9727",
   "metadata": {},
   "source": [
    "plt.figure()\n",
    "plt.bar(range(X.shape[1]), feature_importance[indices], color=\"r\",\n",
    "        yerr=std[indices], align=\"center\")\n",
    "plt.xticks(range(X.shape[1]), X.columns[indices], rotation=45)\n",
    "plt.xlim([-1, X.shape[1]])\n",
    "plt.show()"
   ]
  },
  {
   "cell_type": "markdown",
   "id": "4aacabad",
   "metadata": {},
   "source": [
    "<후기>\n",
    "\n",
    "6개의 등급을 2개씩 3개로 분류하였고, 데이터 중에 필요없는 것을 빼는 전처리 과정을 거치지 않고 모델을 만든 결과 정확도가 약 82%였다.\n",
    "만약 와인에 대한 이해도가 높은 상태에서 본 데이터를 봤을 때, 적합한 데이터를 골라 더 정확도 높은 예측 모델을 만들 수도 있을 거라 생각한다."
   ]
  },
  {
   "cell_type": "code",
   "execution_count": null,
   "id": "17f52431",
   "metadata": {},
   "outputs": [],
   "source": []
  }
 ],
 "metadata": {
  "kernelspec": {
   "display_name": "Python 3 (ipykernel)",
   "language": "python",
   "name": "python3"
  },
  "language_info": {
   "codemirror_mode": {
    "name": "ipython",
    "version": 3
   },
   "file_extension": ".py",
   "mimetype": "text/x-python",
   "name": "python",
   "nbconvert_exporter": "python",
   "pygments_lexer": "ipython3",
   "version": "3.10.9"
  }
 },
 "nbformat": 4,
 "nbformat_minor": 5
}
