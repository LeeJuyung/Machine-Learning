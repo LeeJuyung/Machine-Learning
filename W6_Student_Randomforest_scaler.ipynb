{
 "cells": [
  {
   "cell_type": "markdown",
   "id": "0b930708",
   "metadata": {},
   "source": [
    "60201359 이주영 6주차 과제"
   ]
  },
  {
   "cell_type": "code",
   "execution_count": 1,
   "id": "44132f16",
   "metadata": {},
   "outputs": [],
   "source": [
    "import pandas as pd\n",
    "import numpy as np\n",
    "from sklearn.model_selection import train_test_split\n",
    "from sklearn.ensemble import RandomForestClassifier\n",
    "from sklearn.metrics import accuracy_score\n",
    "from sklearn.preprocessing import StandardScaler"
   ]
  },
  {
   "cell_type": "code",
   "execution_count": 2,
   "id": "d23a6694",
   "metadata": {},
   "outputs": [
    {
     "data": {
      "text/html": [
       "<div>\n",
       "<style scoped>\n",
       "    .dataframe tbody tr th:only-of-type {\n",
       "        vertical-align: middle;\n",
       "    }\n",
       "\n",
       "    .dataframe tbody tr th {\n",
       "        vertical-align: top;\n",
       "    }\n",
       "\n",
       "    .dataframe thead th {\n",
       "        text-align: right;\n",
       "    }\n",
       "</style>\n",
       "<table border=\"1\" class=\"dataframe\">\n",
       "  <thead>\n",
       "    <tr style=\"text-align: right;\">\n",
       "      <th></th>\n",
       "      <th>gre</th>\n",
       "      <th>gpa</th>\n",
       "      <th>rank</th>\n",
       "      <th>sex</th>\n",
       "      <th>age</th>\n",
       "      <th>nationality</th>\n",
       "      <th>admission</th>\n",
       "    </tr>\n",
       "  </thead>\n",
       "  <tbody>\n",
       "    <tr>\n",
       "      <th>0</th>\n",
       "      <td>380.0</td>\n",
       "      <td>3.61</td>\n",
       "      <td>3</td>\n",
       "      <td>f</td>\n",
       "      <td>19</td>\n",
       "      <td>Korea</td>\n",
       "      <td>불합격</td>\n",
       "    </tr>\n",
       "    <tr>\n",
       "      <th>1</th>\n",
       "      <td>660.0</td>\n",
       "      <td>3.67</td>\n",
       "      <td>3</td>\n",
       "      <td>f</td>\n",
       "      <td>18</td>\n",
       "      <td>Korea</td>\n",
       "      <td>NaN</td>\n",
       "    </tr>\n",
       "    <tr>\n",
       "      <th>2</th>\n",
       "      <td>800.0</td>\n",
       "      <td>4.00</td>\n",
       "      <td>1</td>\n",
       "      <td>m</td>\n",
       "      <td>19</td>\n",
       "      <td>Korea</td>\n",
       "      <td>합격</td>\n",
       "    </tr>\n",
       "    <tr>\n",
       "      <th>3</th>\n",
       "      <td>NaN</td>\n",
       "      <td>3.19</td>\n",
       "      <td>4</td>\n",
       "      <td>m</td>\n",
       "      <td>19</td>\n",
       "      <td>Korea</td>\n",
       "      <td>합격</td>\n",
       "    </tr>\n",
       "    <tr>\n",
       "      <th>4</th>\n",
       "      <td>520.0</td>\n",
       "      <td>2.93</td>\n",
       "      <td>4</td>\n",
       "      <td>f</td>\n",
       "      <td>19</td>\n",
       "      <td>Korea</td>\n",
       "      <td>불합격</td>\n",
       "    </tr>\n",
       "  </tbody>\n",
       "</table>\n",
       "</div>"
      ],
      "text/plain": [
       "     gre   gpa  rank sex  age nationality admission\n",
       "0  380.0  3.61     3   f   19       Korea       불합격\n",
       "1  660.0  3.67     3   f   18       Korea       NaN\n",
       "2  800.0  4.00     1   m   19       Korea        합격\n",
       "3    NaN  3.19     4   m   19       Korea        합격\n",
       "4  520.0  2.93     4   f   19       Korea       불합격"
      ]
     },
     "execution_count": 2,
     "metadata": {},
     "output_type": "execute_result"
    }
   ],
   "source": [
    "df = pd.read_csv('data/student.csv')\n",
    "df.head()"
   ]
  },
  {
   "cell_type": "code",
   "execution_count": 3,
   "id": "6c6fdf4d",
   "metadata": {},
   "outputs": [
    {
     "data": {
      "text/plain": [
       "gre          2\n",
       "gpa          2\n",
       "rank         0\n",
       "sex          0\n",
       "age          0\n",
       "admission    2\n",
       "dtype: int64"
      ]
     },
     "execution_count": 3,
     "metadata": {},
     "output_type": "execute_result"
    }
   ],
   "source": [
    "#전처리 - 국적 삭제\n",
    "df = df.drop(['nationality'], axis=1)\n",
    "\n",
    "#결측치 확인\n",
    "df.isnull().sum()"
   ]
  },
  {
   "cell_type": "code",
   "execution_count": 4,
   "id": "b7e48d65",
   "metadata": {},
   "outputs": [
    {
     "data": {
      "text/html": [
       "<div>\n",
       "<style scoped>\n",
       "    .dataframe tbody tr th:only-of-type {\n",
       "        vertical-align: middle;\n",
       "    }\n",
       "\n",
       "    .dataframe tbody tr th {\n",
       "        vertical-align: top;\n",
       "    }\n",
       "\n",
       "    .dataframe thead th {\n",
       "        text-align: right;\n",
       "    }\n",
       "</style>\n",
       "<table border=\"1\" class=\"dataframe\">\n",
       "  <thead>\n",
       "    <tr style=\"text-align: right;\">\n",
       "      <th></th>\n",
       "      <th>gre</th>\n",
       "      <th>gpa</th>\n",
       "      <th>rank</th>\n",
       "      <th>sex</th>\n",
       "      <th>age</th>\n",
       "      <th>admission</th>\n",
       "    </tr>\n",
       "  </thead>\n",
       "  <tbody>\n",
       "    <tr>\n",
       "      <th>0</th>\n",
       "      <td>380.000000</td>\n",
       "      <td>3.610000</td>\n",
       "      <td>3</td>\n",
       "      <td>f</td>\n",
       "      <td>19</td>\n",
       "      <td>불합격</td>\n",
       "    </tr>\n",
       "    <tr>\n",
       "      <th>2</th>\n",
       "      <td>800.000000</td>\n",
       "      <td>4.000000</td>\n",
       "      <td>1</td>\n",
       "      <td>m</td>\n",
       "      <td>19</td>\n",
       "      <td>합격</td>\n",
       "    </tr>\n",
       "    <tr>\n",
       "      <th>3</th>\n",
       "      <td>587.889447</td>\n",
       "      <td>3.190000</td>\n",
       "      <td>4</td>\n",
       "      <td>m</td>\n",
       "      <td>19</td>\n",
       "      <td>합격</td>\n",
       "    </tr>\n",
       "    <tr>\n",
       "      <th>4</th>\n",
       "      <td>520.000000</td>\n",
       "      <td>2.930000</td>\n",
       "      <td>4</td>\n",
       "      <td>f</td>\n",
       "      <td>19</td>\n",
       "      <td>불합격</td>\n",
       "    </tr>\n",
       "    <tr>\n",
       "      <th>5</th>\n",
       "      <td>760.000000</td>\n",
       "      <td>3.000000</td>\n",
       "      <td>2</td>\n",
       "      <td>f</td>\n",
       "      <td>19</td>\n",
       "      <td>합격</td>\n",
       "    </tr>\n",
       "    <tr>\n",
       "      <th>...</th>\n",
       "      <td>...</td>\n",
       "      <td>...</td>\n",
       "      <td>...</td>\n",
       "      <td>...</td>\n",
       "      <td>...</td>\n",
       "      <td>...</td>\n",
       "    </tr>\n",
       "    <tr>\n",
       "      <th>395</th>\n",
       "      <td>620.000000</td>\n",
       "      <td>4.000000</td>\n",
       "      <td>2</td>\n",
       "      <td>f</td>\n",
       "      <td>20</td>\n",
       "      <td>불합격</td>\n",
       "    </tr>\n",
       "    <tr>\n",
       "      <th>396</th>\n",
       "      <td>560.000000</td>\n",
       "      <td>3.040000</td>\n",
       "      <td>3</td>\n",
       "      <td>m</td>\n",
       "      <td>18</td>\n",
       "      <td>불합격</td>\n",
       "    </tr>\n",
       "    <tr>\n",
       "      <th>397</th>\n",
       "      <td>460.000000</td>\n",
       "      <td>2.630000</td>\n",
       "      <td>2</td>\n",
       "      <td>m</td>\n",
       "      <td>19</td>\n",
       "      <td>불합격</td>\n",
       "    </tr>\n",
       "    <tr>\n",
       "      <th>398</th>\n",
       "      <td>700.000000</td>\n",
       "      <td>3.389497</td>\n",
       "      <td>2</td>\n",
       "      <td>m</td>\n",
       "      <td>19</td>\n",
       "      <td>불합격</td>\n",
       "    </tr>\n",
       "    <tr>\n",
       "      <th>399</th>\n",
       "      <td>600.000000</td>\n",
       "      <td>3.890000</td>\n",
       "      <td>3</td>\n",
       "      <td>m</td>\n",
       "      <td>19</td>\n",
       "      <td>불합격</td>\n",
       "    </tr>\n",
       "  </tbody>\n",
       "</table>\n",
       "<p>398 rows × 6 columns</p>\n",
       "</div>"
      ],
      "text/plain": [
       "            gre       gpa  rank sex  age admission\n",
       "0    380.000000  3.610000     3   f   19       불합격\n",
       "2    800.000000  4.000000     1   m   19        합격\n",
       "3    587.889447  3.190000     4   m   19        합격\n",
       "4    520.000000  2.930000     4   f   19       불합격\n",
       "5    760.000000  3.000000     2   f   19        합격\n",
       "..          ...       ...   ...  ..  ...       ...\n",
       "395  620.000000  4.000000     2   f   20       불합격\n",
       "396  560.000000  3.040000     3   m   18       불합격\n",
       "397  460.000000  2.630000     2   m   19       불합격\n",
       "398  700.000000  3.389497     2   m   19       불합격\n",
       "399  600.000000  3.890000     3   m   19       불합격\n",
       "\n",
       "[398 rows x 6 columns]"
      ]
     },
     "execution_count": 4,
     "metadata": {},
     "output_type": "execute_result"
    }
   ],
   "source": [
    "#gre, gpa 결측값은 평균으로 대체하고, admission 결측값은 삭제\n",
    "df.gre.fillna(df['gre'].mean(), inplace=True)\n",
    "df.gpa.fillna(df['gpa'].mean(), inplace=True)\n",
    "df.dropna(subset=['admission'], inplace=True)\n",
    "df"
   ]
  },
  {
   "cell_type": "code",
   "execution_count": 5,
   "id": "ca46aba0",
   "metadata": {},
   "outputs": [
    {
     "data": {
      "text/html": [
       "<div>\n",
       "<style scoped>\n",
       "    .dataframe tbody tr th:only-of-type {\n",
       "        vertical-align: middle;\n",
       "    }\n",
       "\n",
       "    .dataframe tbody tr th {\n",
       "        vertical-align: top;\n",
       "    }\n",
       "\n",
       "    .dataframe thead th {\n",
       "        text-align: right;\n",
       "    }\n",
       "</style>\n",
       "<table border=\"1\" class=\"dataframe\">\n",
       "  <thead>\n",
       "    <tr style=\"text-align: right;\">\n",
       "      <th></th>\n",
       "      <th>gre</th>\n",
       "      <th>gpa</th>\n",
       "      <th>rank</th>\n",
       "      <th>sex</th>\n",
       "      <th>age</th>\n",
       "      <th>admission</th>\n",
       "    </tr>\n",
       "  </thead>\n",
       "  <tbody>\n",
       "    <tr>\n",
       "      <th>0</th>\n",
       "      <td>380.0</td>\n",
       "      <td>3.61</td>\n",
       "      <td>3</td>\n",
       "      <td>0</td>\n",
       "      <td>19</td>\n",
       "      <td>0</td>\n",
       "    </tr>\n",
       "    <tr>\n",
       "      <th>2</th>\n",
       "      <td>800.0</td>\n",
       "      <td>4.00</td>\n",
       "      <td>1</td>\n",
       "      <td>1</td>\n",
       "      <td>19</td>\n",
       "      <td>1</td>\n",
       "    </tr>\n",
       "    <tr>\n",
       "      <th>3</th>\n",
       "      <td>587.0</td>\n",
       "      <td>3.19</td>\n",
       "      <td>4</td>\n",
       "      <td>1</td>\n",
       "      <td>19</td>\n",
       "      <td>1</td>\n",
       "    </tr>\n",
       "    <tr>\n",
       "      <th>4</th>\n",
       "      <td>520.0</td>\n",
       "      <td>2.93</td>\n",
       "      <td>4</td>\n",
       "      <td>0</td>\n",
       "      <td>19</td>\n",
       "      <td>0</td>\n",
       "    </tr>\n",
       "    <tr>\n",
       "      <th>5</th>\n",
       "      <td>760.0</td>\n",
       "      <td>3.00</td>\n",
       "      <td>2</td>\n",
       "      <td>0</td>\n",
       "      <td>19</td>\n",
       "      <td>1</td>\n",
       "    </tr>\n",
       "    <tr>\n",
       "      <th>...</th>\n",
       "      <td>...</td>\n",
       "      <td>...</td>\n",
       "      <td>...</td>\n",
       "      <td>...</td>\n",
       "      <td>...</td>\n",
       "      <td>...</td>\n",
       "    </tr>\n",
       "    <tr>\n",
       "      <th>395</th>\n",
       "      <td>620.0</td>\n",
       "      <td>4.00</td>\n",
       "      <td>2</td>\n",
       "      <td>0</td>\n",
       "      <td>20</td>\n",
       "      <td>0</td>\n",
       "    </tr>\n",
       "    <tr>\n",
       "      <th>396</th>\n",
       "      <td>560.0</td>\n",
       "      <td>3.04</td>\n",
       "      <td>3</td>\n",
       "      <td>1</td>\n",
       "      <td>18</td>\n",
       "      <td>0</td>\n",
       "    </tr>\n",
       "    <tr>\n",
       "      <th>397</th>\n",
       "      <td>460.0</td>\n",
       "      <td>2.63</td>\n",
       "      <td>2</td>\n",
       "      <td>1</td>\n",
       "      <td>19</td>\n",
       "      <td>0</td>\n",
       "    </tr>\n",
       "    <tr>\n",
       "      <th>398</th>\n",
       "      <td>700.0</td>\n",
       "      <td>3.39</td>\n",
       "      <td>2</td>\n",
       "      <td>1</td>\n",
       "      <td>19</td>\n",
       "      <td>0</td>\n",
       "    </tr>\n",
       "    <tr>\n",
       "      <th>399</th>\n",
       "      <td>600.0</td>\n",
       "      <td>3.89</td>\n",
       "      <td>3</td>\n",
       "      <td>1</td>\n",
       "      <td>19</td>\n",
       "      <td>0</td>\n",
       "    </tr>\n",
       "  </tbody>\n",
       "</table>\n",
       "<p>398 rows × 6 columns</p>\n",
       "</div>"
      ],
      "text/plain": [
       "       gre   gpa  rank  sex  age  admission\n",
       "0    380.0  3.61     3    0   19          0\n",
       "2    800.0  4.00     1    1   19          1\n",
       "3    587.0  3.19     4    1   19          1\n",
       "4    520.0  2.93     4    0   19          0\n",
       "5    760.0  3.00     2    0   19          1\n",
       "..     ...   ...   ...  ...  ...        ...\n",
       "395  620.0  4.00     2    0   20          0\n",
       "396  560.0  3.04     3    1   18          0\n",
       "397  460.0  2.63     2    1   19          0\n",
       "398  700.0  3.39     2    1   19          0\n",
       "399  600.0  3.89     3    1   19          0\n",
       "\n",
       "[398 rows x 6 columns]"
      ]
     },
     "execution_count": 5,
     "metadata": {},
     "output_type": "execute_result"
    }
   ],
   "source": [
    "#gre 소수점 버림, gpa 소수점 둘째자리에서 반올림\n",
    "df['gre'] = df['gre'].apply(np.floor)\n",
    "df['gpa']= round(df['gpa'], 2)\n",
    "\n",
    "#남1 여2, 합격1 불합격0\n",
    "df[\"sex\"]=df.sex.map({\"m\":1, \"f\":0})\n",
    "df[\"admission\"]=df.admission.map({\"합격\":1, \"불합격\":0}).astype(int)\n",
    "df"
   ]
  },
  {
   "cell_type": "code",
   "execution_count": 9,
   "id": "9a5004c0",
   "metadata": {},
   "outputs": [
    {
     "name": "stdout",
     "output_type": "stream",
     "text": [
      "0    272\n",
      "1    126\n",
      "Name: admission, dtype: int64\n"
     ]
    }
   ],
   "source": [
    "counts = df['admission'].value_counts()\n",
    "print(counts)\n",
    "#합격이 불합격보다 2배 이상 많아 오버샘플링 한다."
   ]
  },
  {
   "cell_type": "code",
   "execution_count": 10,
   "id": "68c7edfd",
   "metadata": {},
   "outputs": [
    {
     "data": {
      "text/plain": [
       "array([[380.  ,   3.61,   3.  ,   0.  ,  19.  ],\n",
       "       [800.  ,   4.  ,   1.  ,   1.  ,  19.  ],\n",
       "       [587.  ,   3.19,   4.  ,   1.  ,  19.  ],\n",
       "       ...,\n",
       "       [460.  ,   2.63,   2.  ,   1.  ,  19.  ],\n",
       "       [700.  ,   3.39,   2.  ,   1.  ,  19.  ],\n",
       "       [600.  ,   3.89,   3.  ,   1.  ,  19.  ]])"
      ]
     },
     "execution_count": 10,
     "metadata": {},
     "output_type": "execute_result"
    }
   ],
   "source": [
    "#X, y로 데이터 분리\n",
    "X = np.array(df.iloc[:,:-1])\n",
    "y = np.array(df.admission)\n",
    "X"
   ]
  },
  {
   "cell_type": "code",
   "execution_count": 11,
   "id": "ea8efcb4",
   "metadata": {},
   "outputs": [
    {
     "data": {
      "text/plain": [
       "array([0, 1, 1, 0, 1, 1, 0, 1, 0, 0, 0, 1, 0, 1, 0, 0, 0, 0, 1, 1, 0, 0,\n",
       "       1, 1, 1, 1, 1, 0, 0, 0, 0, 1, 0, 0, 0, 0, 1, 1, 0, 1, 1, 0, 0, 1,\n",
       "       1, 0, 0, 0, 0, 0, 0, 1, 0, 1, 0, 0, 0, 0, 1, 0, 0, 1, 0, 0, 0, 0,\n",
       "       0, 0, 0, 0, 0, 0, 0, 0, 0, 1, 0, 1, 0, 0, 0, 0, 1, 0, 0, 0, 0, 1,\n",
       "       0, 1, 0, 0, 1, 0, 0, 0, 0, 0, 0, 0, 0, 0, 1, 1, 1, 0, 0, 0, 0, 0,\n",
       "       0, 0, 0, 0, 1, 0, 1, 0, 1, 1, 0, 0, 0, 0, 1, 0, 0, 0, 1, 0, 0, 0,\n",
       "       0, 0, 0, 0, 0, 1, 0, 1, 0, 0, 0, 0, 0, 0, 1, 0, 1, 0, 1, 0, 0, 1,\n",
       "       0, 1, 0, 0, 0, 0, 1, 0, 0, 0, 0, 0, 0, 0, 0, 0, 0, 1, 0, 1, 0, 1,\n",
       "       0, 0, 0, 0, 0, 1, 0, 0, 0, 0, 0, 0, 1, 0, 0, 0, 1, 0, 0, 1, 0, 0,\n",
       "       0, 1, 1, 0, 1, 1, 0, 1, 0, 0, 0, 0, 0, 0, 1, 1, 0, 1, 0, 1, 0, 0,\n",
       "       1, 0, 0, 1, 0, 0, 0, 1, 0, 0, 0, 0, 1, 0, 1, 0, 0, 0, 0, 1, 1, 0,\n",
       "       0, 0, 0, 0, 0, 0, 0, 0, 1, 1, 1, 0, 1, 1, 0, 0, 0, 0, 1, 1, 1, 0,\n",
       "       0, 1, 1, 0, 1, 0, 1, 0, 0, 1, 0, 1, 1, 1, 0, 0, 0, 0, 1, 0, 1, 1,\n",
       "       0, 0, 1, 0, 0, 0, 0, 0, 0, 0, 0, 0, 0, 1, 1, 1, 0, 0, 1, 0, 0, 0,\n",
       "       0, 0, 0, 1, 0, 1, 1, 1, 1, 0, 0, 0, 0, 0, 0, 0, 0, 1, 0, 0, 0, 0,\n",
       "       0, 0, 1, 1, 0, 0, 0, 1, 0, 1, 0, 0, 0, 0, 0, 0, 0, 0, 1, 0, 1, 0,\n",
       "       1, 1, 0, 0, 1, 0, 1, 1, 0, 0, 1, 0, 0, 0, 0, 0, 1, 1, 1, 1, 0, 0,\n",
       "       0, 1, 0, 0, 0, 1, 0, 0, 1, 0, 1, 0, 0, 0, 1, 1, 1, 1, 1, 0, 0, 0,\n",
       "       0, 0])"
      ]
     },
     "execution_count": 11,
     "metadata": {},
     "output_type": "execute_result"
    }
   ],
   "source": [
    "y"
   ]
  },
  {
   "cell_type": "code",
   "execution_count": 14,
   "id": "34357325",
   "metadata": {},
   "outputs": [
    {
     "name": "stdout",
     "output_type": "stream",
     "text": [
      "Before SMOTE: 0    185\n",
      "1     93\n",
      "dtype: int64\n",
      "After SMOTE: 0    185\n",
      "1    185\n",
      "dtype: int64\n"
     ]
    }
   ],
   "source": [
    "from imblearn.over_sampling import SMOTE\n",
    "\n",
    "from sklearn.model_selection import train_test_split\n",
    "X_train, X_test, y_train, y_test = train_test_split(X,y,test_size=0.3, random_state=0)\n",
    "\n",
    "# SMOTE 적용\n",
    "smote = SMOTE(random_state=42)\n",
    "X_resampled, y_resampled = smote.fit_resample(X_train, y_train)\n",
    "\n",
    "# 샘플링 결과 확인\n",
    "print(\"Before SMOTE:\", pd.Series(y_train).value_counts())\n",
    "print(\"After SMOTE:\", pd.Series(y_resampled).value_counts())\n"
   ]
  },
  {
   "cell_type": "code",
   "execution_count": 15,
   "id": "141d8fdc",
   "metadata": {},
   "outputs": [
    {
     "name": "stdout",
     "output_type": "stream",
     "text": [
      "standard scaling 정확도: 0.7333333333333333\n"
     ]
    }
   ],
   "source": [
    "#데이터 스케일링 : 전처리 단계에서 수행\n",
    "from sklearn.model_selection import train_test_split\n",
    "from sklearn.metrics import accuracy_score\n",
    "\n",
    "scaler_std = StandardScaler()\n",
    "X_train_std = scaler_std.fit_transform(X_train)\n",
    "X_test_std = scaler_std.transform(X_test)\n",
    "\n",
    "rf_std = RandomForestClassifier(n_estimators=100, random_state=42)\n",
    "rf_std.fit(X_train_std, y_train)\n",
    "y_pred_std = rf_std.predict(X_test_std)\n",
    "acc_std = accuracy_score(y_test, y_pred_std)\n",
    "\n",
    "print('standard scaling 정확도:', acc_std)"
   ]
  },
  {
   "cell_type": "code",
   "execution_count": 16,
   "id": "f3bb2d30",
   "metadata": {},
   "outputs": [
    {
     "name": "stdout",
     "output_type": "stream",
     "text": [
      "min-max scaling 정확도: 0.7416666666666667\n"
     ]
    }
   ],
   "source": [
    "from sklearn.preprocessing import MinMaxScaler\n",
    "scaler_minmax = MinMaxScaler()\n",
    "X_train_minmax = scaler_minmax.fit_transform(X_train)\n",
    "X_test_minmax = scaler_minmax.transform(X_test)\n",
    "\n",
    "rf_minmax = RandomForestClassifier(n_estimators=100, random_state=42)\n",
    "rf_minmax.fit(X_train_minmax, y_train)\n",
    "y_pred_minmax = rf_minmax.predict(X_test_minmax)\n",
    "acc_minmax = accuracy_score(y_test, y_pred_minmax)\n",
    "\n",
    "print('min-max scaling 정확도:', acc_minmax)"
   ]
  },
  {
   "cell_type": "code",
   "execution_count": 17,
   "id": "0837e5c4",
   "metadata": {},
   "outputs": [],
   "source": [
    "#스케일링 정확도가 더 높은 min-max 방식으로 선택하였다.\n",
    "scaler = MinMaxScaler()\n",
    "X_train = scaler.fit_transform(X_train)\n",
    "X_test = scaler.transform(X_test)"
   ]
  },
  {
   "cell_type": "code",
   "execution_count": 19,
   "id": "9a911f84",
   "metadata": {
    "scrolled": false
   },
   "outputs": [
    {
     "name": "stdout",
     "output_type": "stream",
     "text": [
      "결정계수 :  0.843396401749295\n"
     ]
    },
    {
     "data": {
      "image/png": "[encoded data removed]",
      "text/plain": [
       "<Figure size 640x480 with 1 Axes>"
      ]
     },
     "metadata": {},
     "output_type": "display_data"
    },
    {
     "name": "stdout",
     "output_type": "stream",
     "text": [
      "결정계수 :  0.8590823167656398\n"
     ]
    },
    {
     "data": {
      "image/png": "[encoded data removed]",
      "text/plain": [
       "<Figure size 640x480 with 1 Axes>"
      ]
     },
     "metadata": {},
     "output_type": "display_data"
    },
    {
     "name": "stdout",
     "output_type": "stream",
     "text": [
      "결정계수 :  0.8561322769274058\n"
     ]
    },
    {
     "data": {
      "image/png": "[encoded data removed]",
      "text/plain": [
       "<Figure size 640x480 with 1 Axes>"
      ]
     },
     "metadata": {},
     "output_type": "display_data"
    },
    {
     "name": "stdout",
     "output_type": "stream",
     "text": [
      "결정계수 :  0.8536128541266577\n"
     ]
    },
    {
     "data": {
      "image/png": "[encoded data removed]",
      "text/plain": [
       "<Figure size 640x480 with 1 Axes>"
      ]
     },
     "metadata": {},
     "output_type": "display_data"
    }
   ],
   "source": [
    "import matplotlib.pyplot as plt\n",
    "import math\n",
    "\n",
    "x = np.random.rand(100,1)\n",
    "x = x * 10-5\n",
    "\n",
    "y = np.array([math.sin(i) for i in x])\n",
    "y = y + np.random.randn(100)\n",
    "\n",
    "#랜덤포레스트 모델\n",
    "from sklearn.ensemble import RandomForestRegressor\n",
    "#트리가 10 20 30 40개일 때\n",
    "for i in (10, 20, 30, 40):\n",
    "  model = RandomForestRegressor(n_estimators = i, random_state = 15)\n",
    "  model.fit(x, y)\n",
    "\n",
    "  relation_square = model.score(x, y)\n",
    "  print('결정계수 : ', relation_square)\n",
    "  \n",
    "  y_p = model.predict(x)\n",
    "\n",
    "  plt.scatter(x,y, marker = 'x')\n",
    "  plt.scatter(x,y_p, marker = 'o')\n",
    "\n",
    "  plt.show()"
   ]
  },
  {
   "cell_type": "markdown",
   "id": "b4beb8b4",
   "metadata": {},
   "source": [
    "n_estimators = 20 \n",
    "\n",
    "랜덤이라 실행할 때마다 결과가 조금씩 다르게 나오지만 10 20 30 40개 나무일 때 20개 나무일 때 결정계수가 0.85로 높아 20개로 결정하였다."
   ]
  },
  {
   "cell_type": "code",
   "execution_count": 20,
   "id": "a2616b7e",
   "metadata": {},
   "outputs": [
    {
     "data": {
      "text/html": [
       "<style>#sk-container-id-1 {color: black;background-color: white;}#sk-container-id-1 pre{padding: 0;}#sk-container-id-1 div.sk-toggleable {background-color: white;}#sk-container-id-1 label.sk-toggleable__label {cursor: pointer;display: block;width: 100%;margin-bottom: 0;padding: 0.3em;box-sizing: border-box;text-align: center;}#sk-container-id-1 label.sk-toggleable__label-arrow:before {content: \"▸\";float: left;margin-right: 0.25em;color: #696969;}#sk-container-id-1 label.sk-toggleable__label-arrow:hover:before {color: black;}#sk-container-id-1 div.sk-estimator:hover label.sk-toggleable__label-arrow:before {color: black;}#sk-container-id-1 div.sk-toggleable__content {max-height: 0;max-width: 0;overflow: hidden;text-align: left;background-color: #f0f8ff;}#sk-container-id-1 div.sk-toggleable__content pre {margin: 0.2em;color: black;border-radius: 0.25em;background-color: #f0f8ff;}#sk-container-id-1 input.sk-toggleable__control:checked~div.sk-toggleable__content {max-height: 200px;max-width: 100%;overflow: auto;}#sk-container-id-1 input.sk-toggleable__control:checked~label.sk-toggleable__label-arrow:before {content: \"▾\";}#sk-container-id-1 div.sk-estimator input.sk-toggleable__control:checked~label.sk-toggleable__label {background-color: #d4ebff;}#sk-container-id-1 div.sk-label input.sk-toggleable__control:checked~label.sk-toggleable__label {background-color: #d4ebff;}#sk-container-id-1 input.sk-hidden--visually {border: 0;clip: rect(1px 1px 1px 1px);clip: rect(1px, 1px, 1px, 1px);height: 1px;margin: -1px;overflow: hidden;padding: 0;position: absolute;width: 1px;}#sk-container-id-1 div.sk-estimator {font-family: monospace;background-color: #f0f8ff;border: 1px dotted black;border-radius: 0.25em;box-sizing: border-box;margin-bottom: 0.5em;}#sk-container-id-1 div.sk-estimator:hover {background-color: #d4ebff;}#sk-container-id-1 div.sk-parallel-item::after {content: \"\";width: 100%;border-bottom: 1px solid gray;flex-grow: 1;}#sk-container-id-1 div.sk-label:hover label.sk-toggleable__label {background-color: #d4ebff;}#sk-container-id-1 div.sk-serial::before {content: \"\";position: absolute;border-left: 1px solid gray;box-sizing: border-box;top: 0;bottom: 0;left: 50%;z-index: 0;}#sk-container-id-1 div.sk-serial {display: flex;flex-direction: column;align-items: center;background-color: white;padding-right: 0.2em;padding-left: 0.2em;position: relative;}#sk-container-id-1 div.sk-item {position: relative;z-index: 1;}#sk-container-id-1 div.sk-parallel {display: flex;align-items: stretch;justify-content: center;background-color: white;position: relative;}#sk-container-id-1 div.sk-item::before, #sk-container-id-1 div.sk-parallel-item::before {content: \"\";position: absolute;border-left: 1px solid gray;box-sizing: border-box;top: 0;bottom: 0;left: 50%;z-index: -1;}#sk-container-id-1 div.sk-parallel-item {display: flex;flex-direction: column;z-index: 1;position: relative;background-color: white;}#sk-container-id-1 div.sk-parallel-item:first-child::after {align-self: flex-end;width: 50%;}#sk-container-id-1 div.sk-parallel-item:last-child::after {align-self: flex-start;width: 50%;}#sk-container-id-1 div.sk-parallel-item:only-child::after {width: 0;}#sk-container-id-1 div.sk-dashed-wrapped {border: 1px dashed gray;margin: 0 0.4em 0.5em 0.4em;box-sizing: border-box;padding-bottom: 0.4em;background-color: white;}#sk-container-id-1 div.sk-label label {font-family: monospace;font-weight: bold;display: inline-block;line-height: 1.2em;}#sk-container-id-1 div.sk-label-container {text-align: center;}#sk-container-id-1 div.sk-container {/* jupyter's `normalize.less` sets `[hidden] { display: none; }` but bootstrap.min.css set `[hidden] { display: none !important; }` so we also need the `!important` here to be able to override the default hidden behavior on the sphinx rendered scikit-learn.org. See: https://github.com/scikit-learn/scikit-learn/issues/21755 */display: inline-block !important;position: relative;}#sk-container-id-1 div.sk-text-repr-fallback {display: none;}</style><div id=\"sk-container-id-1\" class=\"sk-top-container\"><div class=\"sk-text-repr-fallback\"><pre>RandomForestClassifier(n_estimators=20, random_state=0)</pre><b>In a Jupyter environment, please rerun this cell to show the HTML representation or trust the notebook. <br />On GitHub, the HTML representation is unable to render, please try loading this page with nbviewer.org.</b></div><div class=\"sk-container\" hidden><div class=\"sk-item\"><div class=\"sk-estimator sk-toggleable\"><input class=\"sk-toggleable__control sk-hidden--visually\" id=\"sk-estimator-id-1\" type=\"checkbox\" checked><label for=\"sk-estimator-id-1\" class=\"sk-toggleable__label sk-toggleable__label-arrow\">RandomForestClassifier</label><div class=\"sk-toggleable__content\"><pre>RandomForestClassifier(n_estimators=20, random_state=0)</pre></div></div></div></div></div>"
      ],
      "text/plain": [
       "RandomForestClassifier(n_estimators=20, random_state=0)"
      ]
     },
     "execution_count": 20,
     "metadata": {},
     "output_type": "execute_result"
    }
   ],
   "source": [
    "#랜덤포레스트 모델 만들기\n",
    "RF = RandomForestClassifier(n_estimators=20, random_state=0)\n",
    "RF.fit(X_train, y_train)"
   ]
  },
  {
   "cell_type": "code",
   "execution_count": 21,
   "id": "9840d897",
   "metadata": {},
   "outputs": [
    {
     "name": "stdout",
     "output_type": "stream",
     "text": [
      "정확도: 0.7333333333333333\n"
     ]
    }
   ],
   "source": [
    "#테스트\n",
    "from sklearn.metrics import precision_score\n",
    "from sklearn.metrics import recall_score, f1_score\n",
    "\n",
    "temp_y_pred_rf=RF.predict(X_test)\n",
    "temp_acc = accuracy_score(y_test, temp_y_pred_rf)\n",
    "print('정확도:', temp_acc)"
   ]
  },
  {
   "cell_type": "code",
   "execution_count": 22,
   "id": "659b9e87",
   "metadata": {},
   "outputs": [
    {
     "name": "stdout",
     "output_type": "stream",
     "text": [
      ">10, acc: 0.692\n",
      ">15, acc: 0.700\n",
      ">20, acc: 0.733\n",
      ">25, acc: 0.700\n",
      ">30, acc: 0.725\n",
      ">35, acc: 0.717\n",
      ">40, acc: 0.733\n",
      ">45, acc: 0.725\n",
      ">50, acc: 0.742\n",
      ">55, acc: 0.717\n",
      ">60, acc: 0.742\n",
      ">65, acc: 0.742\n",
      ">70, acc: 0.742\n",
      ">75, acc: 0.742\n",
      ">80, acc: 0.742\n",
      ">85, acc: 0.742\n",
      ">90, acc: 0.742\n",
      ">95, acc: 0.742\n",
      ">100, acc: 0.750\n",
      ">105, acc: 0.750\n",
      ">110, acc: 0.742\n",
      ">115, acc: 0.750\n",
      ">120, acc: 0.758\n",
      ">125, acc: 0.758\n",
      ">130, acc: 0.750\n",
      ">135, acc: 0.758\n",
      ">140, acc: 0.758\n",
      ">145, acc: 0.758\n",
      ">150, acc: 0.750\n",
      ">155, acc: 0.758\n",
      ">160, acc: 0.750\n",
      ">165, acc: 0.750\n",
      ">170, acc: 0.750\n",
      ">175, acc: 0.742\n",
      ">180, acc: 0.742\n",
      ">185, acc: 0.742\n",
      ">190, acc: 0.750\n",
      ">195, acc: 0.750\n",
      ">200, acc: 0.742\n",
      ">205, acc: 0.733\n",
      ">210, acc: 0.742\n",
      ">215, acc: 0.742\n",
      ">220, acc: 0.750\n",
      ">225, acc: 0.758\n",
      ">230, acc: 0.758\n",
      ">235, acc: 0.742\n",
      ">240, acc: 0.758\n",
      ">245, acc: 0.750\n",
      ">250, acc: 0.750\n",
      ">255, acc: 0.750\n",
      ">260, acc: 0.750\n",
      ">265, acc: 0.750\n",
      ">270, acc: 0.750\n",
      ">275, acc: 0.750\n",
      ">280, acc: 0.758\n",
      ">285, acc: 0.750\n",
      ">290, acc: 0.758\n",
      ">295, acc: 0.758\n",
      ">300, acc: 0.750\n",
      ">305, acc: 0.750\n",
      ">310, acc: 0.742\n",
      ">315, acc: 0.742\n",
      ">320, acc: 0.742\n",
      ">325, acc: 0.733\n",
      ">330, acc: 0.733\n",
      ">335, acc: 0.742\n",
      ">340, acc: 0.742\n",
      ">345, acc: 0.733\n",
      ">350, acc: 0.742\n",
      ">355, acc: 0.742\n",
      ">360, acc: 0.742\n",
      ">365, acc: 0.733\n",
      ">370, acc: 0.733\n",
      ">375, acc: 0.733\n",
      ">380, acc: 0.733\n",
      ">385, acc: 0.733\n",
      ">390, acc: 0.733\n",
      ">395, acc: 0.733\n"
     ]
    }
   ],
   "source": [
    "scores = []\n",
    "for i in range(10,400,5):\n",
    "    RF=RandomForestClassifier(n_estimators=i, random_state=0)\n",
    "    RF.fit(X_train,y_train)\n",
    "    \n",
    "    att= RF.predict(X_test)\n",
    "    acc = accuracy_score(y_test,att)\n",
    "    scores.append(acc)\n",
    "    \n",
    "    print('>%d, acc: %.3f'% (i, acc))"
   ]
  },
  {
   "cell_type": "code",
   "execution_count": 23,
   "id": "309c0cf2",
   "metadata": {},
   "outputs": [
    {
     "data": {
      "text/plain": [
       "<matplotlib.legend.Legend at 0x18fdb2c3a00>"
      ]
     },
     "execution_count": 23,
     "metadata": {},
     "output_type": "execute_result"
    },
    {
     "data": {
      "image/png": "[encoded data removed]",
      "text/plain": [
       "<Figure size 640x480 with 1 Axes>"
      ]
     },
     "metadata": {},
     "output_type": "display_data"
    }
   ],
   "source": [
    "import matplotlib.pyplot as plt\n",
    "\n",
    "plt.plot(range(10,400,5), scores, 'b--', label='RF_acc')\n",
    "plt.legend()"
   ]
  },
  {
   "cell_type": "code",
   "execution_count": 24,
   "id": "5bfa9751",
   "metadata": {},
   "outputs": [],
   "source": [
    "#n_estmators =140으로 새로 적합\n",
    "RF=RandomForestClassifier(n_estimators=140, random_state=0)\n",
    "RF.fit(X_train, y_train)\n",
    "temp_y_pred_rf = RF.predict(X_test)"
   ]
  },
  {
   "cell_type": "code",
   "execution_count": 25,
   "id": "c1cf05c4",
   "metadata": {},
   "outputs": [
    {
     "name": "stdout",
     "output_type": "stream",
     "text": [
      "accuracy : 0.7583333333333333\n",
      "precision : 0.5909090909090909\n",
      "recall : 0.3939393939393939\n",
      "f1 : 0.4727272727272727\n"
     ]
    }
   ],
   "source": [
    "#랜덤포레스트 모델성능\n",
    "print('accuracy :', accuracy_score(y_test, temp_y_pred_rf))\n",
    "print('precision :', precision_score(y_test, temp_y_pred_rf))\n",
    "print('recall :', recall_score(y_test, temp_y_pred_rf))\n",
    "print('f1 :', f1_score(y_test, temp_y_pred_rf))"
   ]
  },
  {
   "cell_type": "markdown",
   "id": "14cf9313",
   "metadata": {},
   "source": [
    "후기\n",
    "\n",
    "standard 스케일링과 min-max 스케일링을 썼고, min-max 스케일링의 정확도가 높게 나왔다. 합격 불합격을 나누는 모델이다보니 정규분포가 아닌 경우에 효과적인 min max모델의 정확도가 높게 나온 것 같다. \n",
    "\n",
    "블로그에서 나무의 수(n_estimators)에 따른 결정계수를 비교하는 글을 보고 따라해보았다. 결정계수가 높게 나온 나무 수 = 20개로 모델을 만들어봤을 때 정확도가 73.3%가 나왔고, 실습 때 배운 방법으로 구한 나무 수 =140개로 만들었을 때 정확도가 75.8%로 더 높게 나왔다. 나무 수도 많고, 긴 목록으로 비교하여 선택한 거라 정확도가 높은 것 같지만 다른 방법으로도 나무 수를 선택할 수 있어 흥미로웠다."
   ]
  },
  {
   "cell_type": "code",
   "execution_count": null,
   "id": "c05b18f8",
   "metadata": {},
   "outputs": [],
   "source": []
  }
 ],
 "metadata": {
  "kernelspec": {
   "display_name": "Python 3 (ipykernel)",
   "language": "python",
   "name": "python3"
  },
  "language_info": {
   "codemirror_mode": {
    "name": "ipython",
    "version": 3
   },
   "file_extension": ".py",
   "mimetype": "text/x-python",
   "name": "python",
   "nbconvert_exporter": "python",
   "pygments_lexer": "ipython3",
   "version": "3.10.9"
  }
 },
 "nbformat": 4,
 "nbformat_minor": 5
}
